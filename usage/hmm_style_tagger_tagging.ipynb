{
 "cells": [
  {
   "cell_type": "code",
   "execution_count": 1,
   "metadata": {},
   "outputs": [],
   "source": [
    "import sys\n",
    "sys.path.append('../')\n",
    "\n",
    "from crf_postagger.hmm_style import HMMStyleTagger\n",
    "from crf_postagger.hmm_style import HMMStyleParameter\n",
    "\n",
    "model_path = '../models/hmmstyle_crf_sejong_simple.json'\n",
    "preanalyzed_eojeols = {\n",
    "    '해쪄': (('하', '아쪄', 'Verb', 'Eomi'),)\n",
    "}\n",
    "\n",
    "trained_crf = HMMStyleTagger(\n",
    "    HMMStyleParameter(\n",
    "        model_path,\n",
    "        preanalyzed_eojeols = preanalyzed_eojeols\n",
    "    )\n",
    ")"
   ]
  },
  {
   "cell_type": "code",
   "execution_count": 2,
   "metadata": {},
   "outputs": [
    {
     "data": {
      "text/plain": [
       "2.728246174403568"
      ]
     },
     "execution_count": 2,
     "metadata": {},
     "output_type": "execute_result"
    }
   ],
   "source": [
    "sentence = [['뭐', 'Noun'], ['타', 'Verb'], ['고', 'Eomi'], ['가', 'Verb'], ['ㅏ', 'Eomi']]\n",
    "trained_crf.evaluate(sentence)"
   ]
  },
  {
   "cell_type": "code",
   "execution_count": 3,
   "metadata": {},
   "outputs": [
    {
     "data": {
      "text/plain": [
       "[[('머리', 'Noun'),\n",
       "  ('쿵', 'Adverb'),\n",
       "  ('하', 'Verb'),\n",
       "  ('아', 'Eomi'),\n",
       "  ('찌', 'Verb'),\n",
       "  ('어', 'Eomi')],\n",
       " 2.0720928527608016]"
      ]
     },
     "execution_count": 3,
     "metadata": {},
     "output_type": "execute_result"
    }
   ],
   "source": [
    "trained_crf.tag('머리쿵해쪄')"
   ]
  },
  {
   "cell_type": "code",
   "execution_count": 4,
   "metadata": {},
   "outputs": [
    {
     "data": {
      "text/plain": [
       "[[('머리', 'Noun'), ('쿵', 'Adverb'), ('하', 'Verb'), ('아쪄', 'Eomi')],\n",
       " 2.797982565508236]"
      ]
     },
     "execution_count": 4,
     "metadata": {},
     "output_type": "execute_result"
    }
   ],
   "source": [
    "trained_crf.add_user_dictionary('Eomi', {'아쪄':1, '아써':1})\n",
    "trained_crf.tag('머리쿵해쪄')"
   ]
  },
  {
   "cell_type": "code",
   "execution_count": 5,
   "metadata": {},
   "outputs": [
    {
     "data": {
      "text/plain": [
       "[[('머리/Noun', 0, 2, 0.029517693554896852),\n",
       "  ('쿵/Adverb', 2, 3, 0.0021641369892205606),\n",
       "  ('하/Verb + 아쪄/Eomi', 3, 5, 1.6799258724759993)],\n",
       " 2.797982565508236]"
      ]
     },
     "execution_count": 5,
     "metadata": {},
     "output_type": "execute_result"
    }
   ],
   "source": [
    "trained_crf.tag('머리쿵해쪄', flatten=False)"
   ]
  },
  {
   "cell_type": "code",
   "execution_count": null,
   "metadata": {
    "collapsed": true
   },
   "outputs": [],
   "source": []
  }
 ],
 "metadata": {
  "kernelspec": {
   "display_name": "Python 3",
   "language": "python",
   "name": "python3"
  },
  "language_info": {
   "codemirror_mode": {
    "name": "ipython",
    "version": 3
   },
   "file_extension": ".py",
   "mimetype": "text/x-python",
   "name": "python",
   "nbconvert_exporter": "python",
   "pygments_lexer": "ipython3",
   "version": "3.6.2"
  }
 },
 "nbformat": 4,
 "nbformat_minor": 2
}
