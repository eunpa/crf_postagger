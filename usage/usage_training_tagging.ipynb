{
 "cells": [
  {
   "cell_type": "markdown",
   "metadata": {},
   "source": [
    "## Check corpus"
   ]
  },
  {
   "cell_type": "code",
   "execution_count": 1,
   "metadata": {},
   "outputs": [
    {
     "name": "stdout",
     "output_type": "stream",
     "text": [
      "[['뭐', 'Noun'], ['타', 'Verb'], ['고', 'Eomi'], ['가', 'Verb'], ['ㅏ', 'Eomi']]\n",
      "[['지하철', 'Noun']]\n",
      "[['기차', 'Noun']]\n",
      "[['아침', 'Noun'], ['에', 'Josa'], ['몇', 'Determiner'], ['시', 'Noun'], ['에', 'Josa'], ['타', 'Verb'], ['고', 'Eomi'], ['가', 'Verb'], ['는데', 'Eomi']]\n"
     ]
    }
   ],
   "source": [
    "import sys\n",
    "sys.path.append('../')\n",
    "\n",
    "import crf_postagger\n",
    "from crf_postagger import Corpus\n",
    "\n",
    "corpus_path = '../data/sejong_simpletag.txt'\n",
    "corpus = Corpus(corpus_path, num_sent=3)\n",
    "\n",
    "for sentence in corpus:\n",
    "    print(sentence)"
   ]
  },
  {
   "cell_type": "markdown",
   "metadata": {},
   "source": [
    "## Training\n",
    "\n",
    "## Potential function"
   ]
  },
  {
   "cell_type": "code",
   "execution_count": 2,
   "metadata": {},
   "outputs": [
    {
     "name": "stdout",
     "output_type": "stream",
     "text": [
      "[['x[0]=뭐',\n",
      "  'x[0]=뭐, y[-1]=BOS',\n",
      "  'x[-1:0]=BOS-뭐',\n",
      "  'x[0:1]=뭐-타',\n",
      "  'x[0:1]=뭐-타, y[1]=Verb',\n",
      "  'x[-1,1]=BOS-타',\n",
      "  'x[-1:1]=BOS-뭐-타'],\n",
      " ['x[0]=타',\n",
      "  'x[0]=타, y[-1]=Noun',\n",
      "  'x[-1:0]=뭐-타',\n",
      "  'x[0:1]=타-고',\n",
      "  'x[0:1]=타-고, y[1]=Eomi',\n",
      "  'x[-1,1]=뭐-고',\n",
      "  'x[-1:1]=뭐-타-고'],\n",
      " ['x[0]=고',\n",
      "  'x[0]=고, y[-1]=Verb',\n",
      "  'x[-1:0]=타-고',\n",
      "  'x[0:1]=고-가',\n",
      "  'x[0:1]=고-가, y[1]=Verb',\n",
      "  'x[-1,1]=타-가',\n",
      "  'x[-1:1]=타-고-가'],\n",
      " ['x[0]=가',\n",
      "  'x[0]=가, y[-1]=Eomi',\n",
      "  'x[-1:0]=고-가',\n",
      "  'x[0:1]=가-ㅏ',\n",
      "  'x[0:1]=가-ㅏ, y[1]=Eomi',\n",
      "  'x[-1,1]=고-ㅏ',\n",
      "  'x[-1:1]=고-가-ㅏ'],\n",
      " ['x[0]=ㅏ',\n",
      "  'x[0]=ㅏ, y[-1]=Verb',\n",
      "  'x[-1:0]=가-ㅏ',\n",
      "  'x[0:1]=ㅏ-EOS',\n",
      "  'x[0:1]=ㅏ-EOS, y[1]=EOS',\n",
      "  'x[-1,1]=가-EOS',\n",
      "  'x[-1:1]=가-ㅏ-EOS']]\n",
      "('Noun', 'Verb', 'Eomi', 'Verb', 'Eomi')\n"
     ]
    }
   ],
   "source": [
    "from crf_postagger import HMMStyleFeatureTransformer\n",
    "from crf_postagger import TrigramFeatureTransformer\n",
    "\n",
    "\n",
    "# sentence_to_xy = HMMStyleFeatureTransformer()\n",
    "sentence_to_xy = TrigramFeatureTransformer()\n",
    "\n",
    "sentence = [['뭐', 'Noun'], ['타', 'Verb'], ['고', 'Eomi'], ['가', 'Verb'], ['ㅏ', 'Eomi']]\n",
    "features, tags = sentence_to_xy(sentence)\n",
    "\n",
    "from pprint import pprint\n",
    "pprint(features)\n",
    "print(tags)"
   ]
  },
  {
   "cell_type": "markdown",
   "metadata": {},
   "source": [
    "### Training"
   ]
  },
  {
   "cell_type": "code",
   "execution_count": 3,
   "metadata": {
    "collapsed": true
   },
   "outputs": [],
   "source": [
    "from crf_postagger import Trainer\n",
    "\n",
    "trainer = Trainer(\n",
    "    Corpus(corpus_path, num_sent=-1),\n",
    "    sentence_to_xy = sentence_to_xy,\n",
    "    max_iter = max_iter,\n",
    "    l1_cost = 0,\n",
    "    verbose = verbose\n",
    ")\n",
    "\n",
    "model_path = '../models/trigram_crf_sejong_simple.json'\n",
    "trainer._save_as_json(model_path)"
   ]
  },
  {
   "cell_type": "markdown",
   "metadata": {},
   "source": [
    "## Tagging\n",
    "\n",
    "### Loading trained model"
   ]
  },
  {
   "cell_type": "code",
   "execution_count": 4,
   "metadata": {
    "collapsed": true
   },
   "outputs": [],
   "source": [
    "from crf_postagger import TrigramParameter\n",
    "from crf_postagger import TrigramTagger\n",
    "\n",
    "model_path = '../models/trigram_crf_sejong_simple.json'\n",
    "trained_crf = TrigramTagger(\n",
    "    TrigramParameter(model_path)\n",
    ")"
   ]
  },
  {
   "cell_type": "markdown",
   "metadata": {},
   "source": [
    "### Evaluating"
   ]
  },
  {
   "cell_type": "code",
   "execution_count": 5,
   "metadata": {},
   "outputs": [
    {
     "name": "stdout",
     "output_type": "stream",
     "text": [
      "\n",
      "[('뭐', 'Noun'), ('타', 'Verb'), ('고', 'Eomi'), ('가', 'Noun')]\n",
      "27.858939\n",
      "\n",
      "[('뭐', 'Noun'), ('타', 'Verb'), ('고', 'Noun'), ('가', 'Noun')]\n",
      "-3.6017170000000003\n",
      "\n",
      "[('뭐', 'Noun'), ('타', 'Verb'), ('고', 'Eomi'), ('가', 'Verb'), ('ㅏ', 'Eomi')]\n",
      "54.225075\n",
      "\n",
      "[('뭐', 'Noun'), ('타', 'Verb'), ('고', 'Noun'), ('가', 'Verb'), ('ㅏ', 'Eomi')]\n",
      "23.032051000000003\n"
     ]
    }
   ],
   "source": [
    "candidates = [\n",
    "    [('뭐', 'Noun'), ('타', 'Verb'), ('고', 'Eomi'), ('가', 'Noun')],\n",
    "    [('뭐', 'Noun'), ('타', 'Verb'), ('고', 'Noun'), ('가', 'Noun')],\n",
    "    [('뭐', 'Noun'), ('타', 'Verb'), ('고', 'Eomi'), ('가', 'Verb'), ('ㅏ', 'Eomi')],\n",
    "    [('뭐', 'Noun'), ('타', 'Verb'), ('고', 'Noun'), ('가', 'Verb'), ('ㅏ', 'Eomi')]\n",
    "]\n",
    "\n",
    "for sent in candidates:\n",
    "    print('\\n{}'.format(sent))\n",
    "    print(trained_crf.score(sent, debug=False))"
   ]
  },
  {
   "cell_type": "markdown",
   "metadata": {},
   "source": [
    "### Decoding"
   ]
  },
  {
   "cell_type": "code",
   "execution_count": 6,
   "metadata": {},
   "outputs": [
    {
     "name": "stdout",
     "output_type": "stream",
     "text": [
      "\n",
      "score = 140.8013020000001\n",
      "('주간', 'Noun', 0, 2)\n",
      "('아이돌', 'Noun', 2, 5)\n",
      "('에', 'Josa', 5, 6)\n",
      "('서', 'Verb', 6, 7)\n",
      "('아', 'Eomi', 7, 8)\n",
      "('이오', 'Noun', 8, 10)\n",
      "('아이', 'Noun', 10, 12)\n",
      "('가', 'Josa', 12, 13)\n",
      "('소개', 'Noun', 13, 15)\n",
      "('하 + 았', 'Verb + Eomi', 15, 16)\n",
      "('던', 'Eomi', 16, 17)\n",
      "('오늘', 'Noun', 17, 19)\n",
      "('의', 'Josa', 19, 20)\n",
      "('날씨', 'Noun', 20, 22)\n",
      "\n",
      "score = 140.8013020000001\n",
      "('주간', 'Noun', 0, 2)\n",
      "('아이돌', 'Noun', 2, 5)\n",
      "('에', 'Josa', 5, 6)\n",
      "('서', 'Verb', 6, 7)\n",
      "('아', 'Eomi', 7, 8)\n",
      "('이오', 'Noun', 8, 10)\n",
      "('아이', 'Noun', 10, 12)\n",
      "('가', 'Josa', 12, 13)\n",
      "('소개', 'Noun', 13, 15)\n",
      "('하 + 았', 'Adjective + Eomi', 15, 16)\n",
      "('던', 'Eomi', 16, 17)\n",
      "('오늘', 'Noun', 17, 19)\n",
      "('의', 'Josa', 19, 20)\n",
      "('날씨', 'Noun', 20, 22)\n",
      "\n",
      "score = 137.47260700000007\n",
      "('주간', 'Noun', 0, 2)\n",
      "('아이돌', 'Noun', 2, 5)\n",
      "('에', 'Josa', 5, 6)\n",
      "('서', 'Verb', 6, 7)\n",
      "('아', 'Eomi', 7, 8)\n",
      "('이오', 'Noun', 8, 10)\n",
      "('아이', 'Noun', 10, 12)\n",
      "('가', 'Josa', 12, 13)\n",
      "('소개', 'Noun', 13, 15)\n",
      "('했던', 'Unk', 15, 17)\n",
      "('오늘', 'Noun', 17, 19)\n",
      "('의', 'Josa', 19, 20)\n",
      "('날씨', 'Noun', 20, 22)\n"
     ]
    }
   ],
   "source": [
    "sent = '주간아이돌에서아이오아이가소개했던오늘의날씨'\n",
    "\n",
    "paths = trained_crf.tag(sent, k=3)\n",
    "for path, score in paths:\n",
    "    print('\\nscore = {}'.format(score))\n",
    "    for pos in path:\n",
    "        print(pos)"
   ]
  },
  {
   "cell_type": "markdown",
   "metadata": {},
   "source": [
    "### User dictionary with preference"
   ]
  },
  {
   "cell_type": "code",
   "execution_count": 7,
   "metadata": {},
   "outputs": [
    {
     "name": "stdout",
     "output_type": "stream",
     "text": [
      "\n",
      "score = 161.9815650000001\n",
      "('주간아이돌', 'Noun', 0, 5)\n",
      "('에서', 'Josa', 5, 7)\n",
      "('아이오아이', 'Noun', 7, 12)\n",
      "('가', 'Josa', 12, 13)\n",
      "('소개', 'Noun', 13, 15)\n",
      "('하 + 았', 'Verb + Eomi', 15, 16)\n",
      "('던', 'Eomi', 16, 17)\n",
      "('오늘', 'Noun', 17, 19)\n",
      "('의', 'Josa', 19, 20)\n",
      "('날씨', 'Noun', 20, 22)\n"
     ]
    }
   ],
   "source": [
    "trained_crf.add_user_dictionary('Noun', {'아이오아이':20, '주간아이돌':30})\n",
    "\n",
    "paths = trained_crf.tag(sent, k=1)\n",
    "for path, score in paths:\n",
    "    print('\\nscore = {}'.format(score))\n",
    "    for pos in path:\n",
    "        print(pos)"
   ]
  },
  {
   "cell_type": "code",
   "execution_count": null,
   "metadata": {
    "collapsed": true
   },
   "outputs": [],
   "source": []
  }
 ],
 "metadata": {
  "kernelspec": {
   "display_name": "Python 3",
   "language": "python",
   "name": "python3"
  },
  "language_info": {
   "codemirror_mode": {
    "name": "ipython",
    "version": 3
   },
   "file_extension": ".py",
   "mimetype": "text/x-python",
   "name": "python",
   "nbconvert_exporter": "python",
   "pygments_lexer": "ipython3",
   "version": "3.6.2"
  }
 },
 "nbformat": 4,
 "nbformat_minor": 2
}
