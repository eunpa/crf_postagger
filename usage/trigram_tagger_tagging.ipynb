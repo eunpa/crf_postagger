{
 "cells": [
  {
   "cell_type": "code",
   "execution_count": 1,
   "metadata": {
    "collapsed": true
   },
   "outputs": [],
   "source": [
    "import sys\n",
    "sys.path.append('../')\n",
    "\n",
    "from crf_postagger import TrigramTagger\n",
    "from crf_postagger import TrigramParameter\n",
    "\n",
    "model_path = '../models/trigram_crf_sejong_simple.json'\n",
    "preanalyzed_eojeols = {\n",
    "    '해쪄': (('하', '아쪄', 'Verb', 'Eomi'),)\n",
    "}\n",
    "\n",
    "trained_crf = TrigramTagger(\n",
    "    TrigramParameter(\n",
    "        model_path,\n",
    "        preanalyzed_eojeols = preanalyzed_eojeols\n",
    "    )\n",
    ")"
   ]
  },
  {
   "cell_type": "code",
   "execution_count": 2,
   "metadata": {},
   "outputs": [
    {
     "data": {
      "text/plain": [
       "3.9667383324286725"
      ]
     },
     "execution_count": 2,
     "metadata": {},
     "output_type": "execute_result"
    }
   ],
   "source": [
    "sentence = [['뭐', 'Noun'], ['타', 'Verb'], ['고', 'Eomi'], ['가', 'Verb'], ['ㅏ', 'Eomi']]\n",
    "trained_crf.evaluate(sentence)"
   ]
  },
  {
   "cell_type": "code",
   "execution_count": 3,
   "metadata": {},
   "outputs": [
    {
     "data": {
      "text/plain": [
       "[([('머리', 'Noun'),\n",
       "   ('쿵', 'Adverb'),\n",
       "   ('하', 'Verb'),\n",
       "   ('아', 'Eomi'),\n",
       "   ('찌', 'Verb'),\n",
       "   ('어', 'Eomi')],\n",
       "  2.2663016077612634),\n",
       " ([('머리', 'Noun'),\n",
       "   ('쿵', 'Adverb'),\n",
       "   ('하', 'Adjective'),\n",
       "   ('아', 'Eomi'),\n",
       "   ('찌', 'Verb'),\n",
       "   ('어', 'Eomi')],\n",
       "  2.02389491102375),\n",
       " ([('머리', 'Noun'), ('쿵', 'Adverb'), ('하', 'Verb'), ('아쪄', 'Eomi')],\n",
       "  2.0138780418933813),\n",
       " ([('머', 'Exclamation'),\n",
       "   ('리', 'Noun'),\n",
       "   ('쿵', 'Adverb'),\n",
       "   ('하', 'Verb'),\n",
       "   ('아', 'Eomi'),\n",
       "   ('찌', 'Verb'),\n",
       "   ('어', 'Eomi')],\n",
       "  1.1750489760745113),\n",
       " ([('머', 'Noun'),\n",
       "   ('리', 'Noun'),\n",
       "   ('쿵', 'Adverb'),\n",
       "   ('하', 'Verb'),\n",
       "   ('아', 'Eomi'),\n",
       "   ('찌', 'Verb'),\n",
       "   ('어', 'Eomi')],\n",
       "  1.1617270448882735)]"
      ]
     },
     "execution_count": 3,
     "metadata": {},
     "output_type": "execute_result"
    }
   ],
   "source": [
    "trained_crf.tag('머리쿵해쪄')"
   ]
  },
  {
   "cell_type": "code",
   "execution_count": 4,
   "metadata": {},
   "outputs": [
    {
     "data": {
      "text/plain": [
       "[([('머리', 'Noun'), ('쿵', 'Adverb'), ('하', 'Verb'), ('아쪄', 'Eomi')],\n",
       "  3.0138780418933813),\n",
       " ([('머리', 'Noun'),\n",
       "   ('쿵', 'Adverb'),\n",
       "   ('하', 'Verb'),\n",
       "   ('아', 'Eomi'),\n",
       "   ('찌', 'Verb'),\n",
       "   ('어', 'Eomi')],\n",
       "  2.2663016077612634),\n",
       " ([('머리', 'Noun'),\n",
       "   ('쿵', 'Adverb'),\n",
       "   ('하', 'Adjective'),\n",
       "   ('아', 'Eomi'),\n",
       "   ('찌', 'Verb'),\n",
       "   ('어', 'Eomi')],\n",
       "  2.02389491102375),\n",
       " ([('머', 'Exclamation'),\n",
       "   ('리', 'Noun'),\n",
       "   ('쿵', 'Adverb'),\n",
       "   ('하', 'Verb'),\n",
       "   ('아쪄', 'Eomi')],\n",
       "  1.922625410206629),\n",
       " ([('머', 'Noun'),\n",
       "   ('리', 'Noun'),\n",
       "   ('쿵', 'Adverb'),\n",
       "   ('하', 'Verb'),\n",
       "   ('아쪄', 'Eomi')],\n",
       "  1.909303479020391)]"
      ]
     },
     "execution_count": 4,
     "metadata": {},
     "output_type": "execute_result"
    }
   ],
   "source": [
    "trained_crf.add_user_dictionary('Eomi', {'아쪄':1, '아써':1})\n",
    "trained_crf.tag('머리쿵해쪄')"
   ]
  },
  {
   "cell_type": "code",
   "execution_count": 5,
   "metadata": {},
   "outputs": [
    {
     "data": {
      "text/plain": [
       "[([('머리/Noun', 0, 2, 0.034934023119340685),\n",
       "   ('쿵/Adverb', 2, 3, 0.003655173321901925),\n",
       "   ('하/Verb + 아쪄/Eomi', 3, 5, 1.7794701366648282)],\n",
       "  3.0138780418933813),\n",
       " ([('머리/Noun', 0, 2, 0.034934023119340685),\n",
       "   ('쿵/Adverb', 2, 3, 0.003655173321901925),\n",
       "   ('하/Verb + 아/Eomi', 3, 4, 1.1916701170597677),\n",
       "   ('찌/Verb + 어/Eomi', 4, 5, 0.5608400622094903)],\n",
       "  2.2663016077612634)]"
      ]
     },
     "execution_count": 5,
     "metadata": {},
     "output_type": "execute_result"
    }
   ],
   "source": [
    "trained_crf.tag('머리쿵해쪄', flatten=False, beam_size=2)"
   ]
  },
  {
   "cell_type": "code",
   "execution_count": 6,
   "metadata": {},
   "outputs": [
    {
     "name": "stdout",
     "output_type": "stream",
     "text": [
      "\n",
      "[('뭐', 'Noun'), ('타', 'Verb'), ('고', 'Eomi'), ('가', 'Noun')]\n",
      "2.037970832351861\n",
      "\n",
      "[('뭐', 'Noun'), ('타', 'Verb'), ('고', 'Noun'), ('가', 'Noun')]\n",
      "-0.26347716229917634\n",
      "\n",
      "[('뭐', 'Noun'), ('타', 'Verb'), ('고', 'Eomi'), ('가', 'Verb'), ('ㅏ', 'Eomi')]\n",
      "3.9667383324286725\n",
      "\n",
      "[('뭐', 'Noun'), ('타', 'Verb'), ('고', 'Noun'), ('가', 'Verb'), ('ㅏ', 'Eomi')]\n",
      "1.684868477842624\n"
     ]
    }
   ],
   "source": [
    "candidates = [\n",
    "    [('뭐', 'Noun'), ('타', 'Verb'), ('고', 'Eomi'), ('가', 'Noun')],\n",
    "    [('뭐', 'Noun'), ('타', 'Verb'), ('고', 'Noun'), ('가', 'Noun')],\n",
    "    [('뭐', 'Noun'), ('타', 'Verb'), ('고', 'Eomi'), ('가', 'Verb'), ('ㅏ', 'Eomi')],\n",
    "    [('뭐', 'Noun'), ('타', 'Verb'), ('고', 'Noun'), ('가', 'Verb'), ('ㅏ', 'Eomi')]\n",
    "]\n",
    "\n",
    "for sent in candidates:\n",
    "    print('\\n{}'.format(sent))\n",
    "    print(trained_crf.evaluate(sent, debug=False))"
   ]
  },
  {
   "cell_type": "code",
   "execution_count": 10,
   "metadata": {},
   "outputs": [
    {
     "name": "stdout",
     "output_type": "stream",
     "text": [
      "\n",
      "score = 8.741956263158434\n",
      "('아이돌룸', 'Noun')\n",
      "('에', 'Josa')\n",
      "('아이오아이', 'Noun')\n",
      "('가', 'Josa')\n",
      "('나오', 'Verb')\n",
      "('ㄹ', 'Eomi')\n",
      "('수', 'Noun')\n",
      "('있', 'Verb')\n",
      "('을까', 'Eomi')\n",
      "\n",
      "score = 8.700471735794014\n",
      "('아이돌룸', 'Noun')\n",
      "('에', 'Josa')\n",
      "('아이오아이', 'Noun')\n",
      "('가', 'Josa')\n",
      "('나오', 'Verb')\n",
      "('ㄹ', 'Eomi')\n",
      "('수', 'Noun')\n",
      "('있', 'Verb')\n",
      "('을', 'Eomi')\n",
      "('끄', 'Verb')\n",
      "('아', 'Eomi')\n",
      "\n",
      "score = 8.631769824885843\n",
      "('아이돌룸', 'Noun')\n",
      "('에', 'Josa')\n",
      "('아이오아이', 'Noun')\n",
      "('가', 'Josa')\n",
      "('나오', 'Verb')\n",
      "('ㄹ', 'Eomi')\n",
      "('수', 'Noun')\n",
      "('있', 'Verb')\n",
      "('을', 'Eomi')\n",
      "('까', 'Eomi')\n",
      "\n",
      "score = 8.506254643400048\n",
      "('아이돌룸', 'Noun')\n",
      "('에', 'Josa')\n",
      "('아이오아이', 'Noun')\n",
      "('가나', 'Noun')\n",
      "('오', 'Verb')\n",
      "('ㄹ', 'Eomi')\n",
      "('수', 'Noun')\n",
      "('있', 'Verb')\n",
      "('을', 'Eomi')\n",
      "('끄', 'Verb')\n",
      "('아', 'Eomi')\n",
      "\n",
      "score = 8.437552732491877\n",
      "('아이돌룸', 'Noun')\n",
      "('에', 'Josa')\n",
      "('아이오아이', 'Noun')\n",
      "('가나', 'Noun')\n",
      "('오', 'Verb')\n",
      "('ㄹ', 'Eomi')\n",
      "('수', 'Noun')\n",
      "('있', 'Verb')\n",
      "('을', 'Eomi')\n",
      "('까', 'Eomi')\n"
     ]
    }
   ],
   "source": [
    "trained_crf.add_user_dictionary('Noun', {'아이오아이':1, '아이돌룸':1})\n",
    "trained_crf.add_user_dictionary('Verb', {'나오':0.5})\n",
    "sent = '아이돌룸에아이오아이가나올수있을까'\n",
    "\n",
    "trained_crf._a_syllable_penalty = -0.3\n",
    "trained_crf._noun_preference = 0.2\n",
    "\n",
    "top_poses = trained_crf.tag(sent, flatten=True)\n",
    "for poses, score in top_poses:\n",
    "    print('\\nscore = {}'.format(score))\n",
    "    for pos in poses:\n",
    "        print(pos)"
   ]
  },
  {
   "cell_type": "code",
   "execution_count": 9,
   "metadata": {},
   "outputs": [
    {
     "name": "stdout",
     "output_type": "stream",
     "text": [
      "8.700471735794014\n",
      "('아이돌룸/Noun', 0, 4, 1)\n",
      "('에/Josa', 4, 5, 0.8190128120533081)\n",
      "('아이오아이/Noun', 5, 10, 1)\n",
      "('가/Josa', 10, 11, 0.41837169731542345)\n",
      "('나오/Verb + ㄹ/Eomi', 11, 13, 0.6485539073324389)\n",
      "('수/Noun', 13, 14, 0.18038937990949483)\n",
      "('있/Verb', 14, 15, 0.4063281916380028)\n",
      "('을/Eomi', 15, 16, 0.3606708588333233)\n",
      "('끄/Verb + 아/Eomi', 16, 17, 0.42202906523364403)\n"
     ]
    }
   ],
   "source": [
    "poses, score = trained_crf.tag(sent, flatten=False, beam_size=1)[0]\n",
    "print(score)\n",
    "for pos in poses:\n",
    "    print(pos)"
   ]
  },
  {
   "cell_type": "code",
   "execution_count": null,
   "metadata": {
    "collapsed": true
   },
   "outputs": [],
   "source": []
  }
 ],
 "metadata": {
  "kernelspec": {
   "display_name": "Python 3",
   "language": "python",
   "name": "python3"
  },
  "language_info": {
   "codemirror_mode": {
    "name": "ipython",
    "version": 3
   },
   "file_extension": ".py",
   "mimetype": "text/x-python",
   "name": "python",
   "nbconvert_exporter": "python",
   "pygments_lexer": "ipython3",
   "version": "3.6.2"
  }
 },
 "nbformat": 4,
 "nbformat_minor": 2
}
