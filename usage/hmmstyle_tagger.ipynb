{
 "cells": [
  {
   "cell_type": "code",
   "execution_count": 1,
   "metadata": {},
   "outputs": [
    {
     "name": "stdout",
     "output_type": "stream",
     "text": [
      "[['프랑스', 'Noun'],\n",
      " ['의', 'Josa'],\n",
      " ['세계적', 'Noun'],\n",
      " ['이', 'Adjective'],\n",
      " ['ㄴ', 'Eomi'],\n",
      " ['의상', 'Noun'],\n",
      " ['디자이너', 'Noun'],\n",
      " ['엠마누엘', 'Noun'],\n",
      " ['웅가로', 'Noun'],\n",
      " ['가', 'Josa'],\n",
      " ['실내', 'Noun'],\n",
      " ['장식용', 'Noun'],\n",
      " ['직물', 'Noun'],\n",
      " ['디자이너', 'Noun'],\n",
      " ['로', 'Josa'],\n",
      " ['나서', 'Verb'],\n",
      " ['었다', 'Eomi']]\n"
     ]
    }
   ],
   "source": [
    "import sys\n",
    "sys.path.append('../')\n",
    "\n",
    "import crf_postagger\n",
    "from crf_postagger import Corpus\n",
    "from pprint import pprint\n",
    "\n",
    "corpus_path = '../data/sejong_corpus_lr_sepxsv.txt'\n",
    "corpus = Corpus(corpus_path, num_sent=1)\n",
    "\n",
    "for sentence in corpus:\n",
    "    pprint(sentence)"
   ]
  },
  {
   "cell_type": "code",
   "execution_count": 2,
   "metadata": {},
   "outputs": [
    {
     "name": "stdout",
     "output_type": "stream",
     "text": [
      "[['x[0]=뭐'], ['x[0]=타'], ['x[0]=고'], ['x[0]=가'], ['x[0]=ㅏ']]\n",
      "('Noun', 'Verb', 'Eomi', 'Verb', 'Eomi')\n"
     ]
    }
   ],
   "source": [
    "from crf_postagger.hmm_style import HMMStyleFeatureTransformer\n",
    "\n",
    "sentence_to_xy = HMMStyleFeatureTransformer()\n",
    "\n",
    "sentence = [['뭐', 'Noun'], ['타', 'Verb'], ['고', 'Eomi'], ['가', 'Verb'], ['ㅏ', 'Eomi']]\n",
    "features, tags = sentence_to_xy(sentence)\n",
    "\n",
    "pprint(features)\n",
    "print(tags)"
   ]
  },
  {
   "cell_type": "code",
   "execution_count": 4,
   "metadata": {},
   "outputs": [],
   "source": [
    "from crf_postagger import Trainer\n",
    "\n",
    "trainer = Trainer(    \n",
    "    sentence_to_xy = sentence_to_xy,\n",
    "    max_iter = 30,\n",
    "    l1_cost = 0,\n",
    "    verbose = False\n",
    ")\n",
    "\n",
    "model_path = '../models/hmmstyle_crf_sejong_lr_sepxsv.json'\n",
    "\n",
    "trainer.train(\n",
    "    Corpus(corpus_path, num_sent=-1),\n",
    "    model_path\n",
    ")"
   ]
  },
  {
   "cell_type": "code",
   "execution_count": 5,
   "metadata": {
    "collapsed": true
   },
   "outputs": [],
   "source": [
    "from crf_postagger.hmm_style import HMMStyleTagger\n",
    "from crf_postagger.hmm_style import HMMStyleParameter\n",
    "\n",
    "preanalyzed_eojeols = {\n",
    "    '해쪄': (('하', '아쪄', 'Verb', 'Eomi'),)\n",
    "}\n",
    "\n",
    "trained_crf = HMMStyleTagger(\n",
    "    HMMStyleParameter(\n",
    "        model_path,\n",
    "        preanalyzed_eojeols = preanalyzed_eojeols\n",
    "    )\n",
    ")"
   ]
  },
  {
   "cell_type": "code",
   "execution_count": 6,
   "metadata": {},
   "outputs": [
    {
     "data": {
      "text/plain": [
       "2.2604475458241815"
      ]
     },
     "execution_count": 6,
     "metadata": {},
     "output_type": "execute_result"
    }
   ],
   "source": [
    "sentence = [['뭐', 'Noun'], ['타', 'Verb'], ['고', 'Eomi'], ['가', 'Verb'], ['ㅏ', 'Eomi']]\n",
    "trained_crf.evaluate(sentence)"
   ]
  },
  {
   "cell_type": "code",
   "execution_count": 7,
   "metadata": {},
   "outputs": [
    {
     "name": "stdout",
     "output_type": "stream",
     "text": [
      "[('머리', 'Noun'), ('쿵하', 'Verb'), ('아', 'Eomi'), ('찌', 'Verb'), ('어', 'Eomi')]\n",
      "1.824542768296078\n"
     ]
    }
   ],
   "source": [
    "morphtags, score = trained_crf.tag('머리쿵해쪄')\n",
    "pprint(morphtags)\n",
    "print(score)"
   ]
  },
  {
   "cell_type": "code",
   "execution_count": 8,
   "metadata": {},
   "outputs": [
    {
     "data": {
      "text/plain": [
       "[[('머리', 'Noun'), ('쿵하', 'Verb'), ('아쪄', 'Eomi')], 2.464843399123463]"
      ]
     },
     "execution_count": 8,
     "metadata": {},
     "output_type": "execute_result"
    }
   ],
   "source": [
    "trained_crf.add_user_dictionary('Eomi', {'아쪄':1, '아써':1})\n",
    "trained_crf.tag('머리쿵해쪄')"
   ]
  },
  {
   "cell_type": "code",
   "execution_count": 9,
   "metadata": {},
   "outputs": [
    {
     "data": {
      "text/plain": [
       "[[('머리/Noun', 0, 2, 0.04017745747461684),\n",
       "  ('쿵하/Verb + 아쪄/Eomi', 2, 5, 1.0001009508245116)],\n",
       " 2.464843399123463]"
      ]
     },
     "execution_count": 9,
     "metadata": {},
     "output_type": "execute_result"
    }
   ],
   "source": [
    "trained_crf.tag('머리쿵해쪄', flatten=False)"
   ]
  },
  {
   "cell_type": "code",
   "execution_count": null,
   "metadata": {
    "collapsed": true
   },
   "outputs": [],
   "source": []
  }
 ],
 "metadata": {
  "kernelspec": {
   "display_name": "Python 3",
   "language": "python",
   "name": "python3"
  },
  "language_info": {
   "codemirror_mode": {
    "name": "ipython",
    "version": 3
   },
   "file_extension": ".py",
   "mimetype": "text/x-python",
   "name": "python",
   "nbconvert_exporter": "python",
   "pygments_lexer": "ipython3",
   "version": "3.6.2"
  }
 },
 "nbformat": 4,
 "nbformat_minor": 2
}
