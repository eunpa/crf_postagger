{
 "cells": [
  {
   "cell_type": "code",
   "execution_count": 1,
   "metadata": {},
   "outputs": [
    {
     "name": "stdout",
     "output_type": "stream",
     "text": [
      "[['프랑스', 'Noun'],\n",
      " ['의', 'Josa'],\n",
      " ['세계적', 'Noun'],\n",
      " ['이', 'Adjective'],\n",
      " ['ㄴ', 'Eomi'],\n",
      " ['의상', 'Noun'],\n",
      " ['디자이너', 'Noun'],\n",
      " ['엠마누엘', 'Noun'],\n",
      " ['웅가로', 'Noun'],\n",
      " ['가', 'Josa'],\n",
      " ['실내', 'Noun'],\n",
      " ['장식용', 'Noun'],\n",
      " ['직물', 'Noun'],\n",
      " ['디자이너', 'Noun'],\n",
      " ['로', 'Josa'],\n",
      " ['나서', 'Verb'],\n",
      " ['었다', 'Eomi']]\n"
     ]
    }
   ],
   "source": [
    "import sys\n",
    "sys.path.append('../')\n",
    "\n",
    "import crf_postagger\n",
    "from crf_postagger import Corpus\n",
    "from pprint import pprint\n",
    "\n",
    "corpus_path = '../data/sejong_corpus_lr_sepxsv.txt'\n",
    "corpus = Corpus(corpus_path, num_sent=1)\n",
    "\n",
    "for sentence in corpus:\n",
    "    pprint(sentence)"
   ]
  },
  {
   "cell_type": "code",
   "execution_count": 2,
   "metadata": {},
   "outputs": [
    {
     "name": "stdout",
     "output_type": "stream",
     "text": [
      "[['x[0]=뭐',\n",
      "  'x[0]=뭐, y[-1]=BOS',\n",
      "  'x[-1:0]=BOS-뭐',\n",
      "  'x[0:1]=뭐-타',\n",
      "  'x[0:1]=뭐-타, y[1]=Verb',\n",
      "  'x[-1,1]=BOS-타',\n",
      "  'x[-1:1]=BOS-뭐-타'],\n",
      " ['x[0]=타',\n",
      "  'x[0]=타, y[-1]=Noun',\n",
      "  'x[-1:0]=뭐-타',\n",
      "  'x[0:1]=타-고',\n",
      "  'x[0:1]=타-고, y[1]=Eomi',\n",
      "  'x[-1,1]=뭐-고',\n",
      "  'x[-1:1]=뭐-타-고'],\n",
      " ['x[0]=고',\n",
      "  'x[0]=고, y[-1]=Verb',\n",
      "  'x[-1:0]=타-고',\n",
      "  'x[0:1]=고-가',\n",
      "  'x[0:1]=고-가, y[1]=Verb',\n",
      "  'x[-1,1]=타-가',\n",
      "  'x[-1:1]=타-고-가'],\n",
      " ['x[0]=가',\n",
      "  'x[0]=가, y[-1]=Eomi',\n",
      "  'x[-1:0]=고-가',\n",
      "  'x[0:1]=가-ㅏ',\n",
      "  'x[0:1]=가-ㅏ, y[1]=Eomi',\n",
      "  'x[-1,1]=고-ㅏ',\n",
      "  'x[-1:1]=고-가-ㅏ'],\n",
      " ['x[0]=ㅏ',\n",
      "  'x[0]=ㅏ, y[-1]=Verb',\n",
      "  'x[-1:0]=가-ㅏ',\n",
      "  'x[0:1]=ㅏ-EOS',\n",
      "  'x[0:1]=ㅏ-EOS, y[1]=EOS',\n",
      "  'x[-1,1]=가-EOS',\n",
      "  'x[-1:1]=가-ㅏ-EOS']]\n",
      "('Noun', 'Verb', 'Eomi', 'Verb', 'Eomi')\n"
     ]
    }
   ],
   "source": [
    "from crf_postagger.trigram import TrigramFeatureTransformer\n",
    "\n",
    "sentence_to_xy = TrigramFeatureTransformer()\n",
    "\n",
    "sentence = [['뭐', 'Noun'], ['타', 'Verb'], ['고', 'Eomi'], ['가', 'Verb'], ['ㅏ', 'Eomi']]\n",
    "features, tags = sentence_to_xy(sentence)\n",
    "\n",
    "from pprint import pprint\n",
    "pprint(features)\n",
    "print(tags)"
   ]
  },
  {
   "cell_type": "code",
   "execution_count": 6,
   "metadata": {},
   "outputs": [],
   "source": [
    "from crf_postagger import Trainer\n",
    "\n",
    "trainer = Trainer(    \n",
    "    sentence_to_xy = sentence_to_xy,\n",
    "    max_iter = 30,\n",
    "    l1_cost = 0,\n",
    "    verbose = False\n",
    ")\n",
    "\n",
    "model_path = '../models/trigram_crf_sejong_lr_sepxsv.json'\n",
    "\n",
    "trainer.train(\n",
    "    Corpus(corpus_path, num_sent=-1),\n",
    "    model_path\n",
    ")"
   ]
  },
  {
   "cell_type": "code",
   "execution_count": 7,
   "metadata": {
    "collapsed": true
   },
   "outputs": [],
   "source": [
    "from crf_postagger.trigram import TrigramTagger\n",
    "from crf_postagger.trigram import TrigramParameter\n",
    "\n",
    "preanalyzed_eojeols = {\n",
    "    '해쪄': (('하', '아쪄', 'Verb', 'Eomi'),)\n",
    "}\n",
    "\n",
    "trained_crf = TrigramTagger(\n",
    "    TrigramParameter(\n",
    "        model_path,\n",
    "        preanalyzed_eojeols = preanalyzed_eojeols\n",
    "    )\n",
    ")"
   ]
  },
  {
   "cell_type": "code",
   "execution_count": 8,
   "metadata": {},
   "outputs": [
    {
     "data": {
      "text/plain": [
       "3.0270748263528033"
      ]
     },
     "execution_count": 8,
     "metadata": {},
     "output_type": "execute_result"
    }
   ],
   "source": [
    "sentence = [['뭐', 'Noun'], ['타', 'Verb'], ['고', 'Eomi'], ['가', 'Verb'], ['ㅏ', 'Eomi']]\n",
    "trained_crf.evaluate(sentence)"
   ]
  },
  {
   "cell_type": "code",
   "execution_count": 9,
   "metadata": {
    "collapsed": true
   },
   "outputs": [],
   "source": [
    "trained_crf._noun_preference = 0.01\n",
    "trained_crf._unknown_penalty=-0.1"
   ]
  },
  {
   "cell_type": "code",
   "execution_count": 10,
   "metadata": {},
   "outputs": [
    {
     "data": {
      "text/plain": [
       "[([('오늘/Noun', 0, 2, 0.02939046921384876),\n",
       "   ('저녁/Noun', 2, 4, 0.03495215180293302),\n",
       "   ('에/Josa', 4, 5, 0.7988212775958619),\n",
       "   ('운동/Noun', 5, 7, 0.04151176192894883),\n",
       "   ('을/Josa', 7, 8, 0.4941871877320825),\n",
       "   ('aa/Noun', 8, 10, -0.1)],\n",
       "  3.0548825368173684),\n",
       " ([('오늘/Noun', 0, 2, 0.02939046921384876),\n",
       "   ('저녁/Noun', 2, 4, 0.03495215180293302),\n",
       "   ('에/Josa', 4, 5, 0.7988212775958619),\n",
       "   ('운동/Noun', 5, 7, 0.04151176192894883),\n",
       "   ('을/Josa', 7, 8, 0.4941871877320825),\n",
       "   ('aa/Adjective', 8, 10, -0.1)],\n",
       "  2.8719620723936874),\n",
       " ([('오늘/Noun', 0, 2, 0.02939046921384876),\n",
       "   ('저녁/Noun', 2, 4, 0.03495215180293302),\n",
       "   ('에/Josa', 4, 5, 0.7988212775958619),\n",
       "   ('운동/Noun', 5, 7, 0.04151176192894883),\n",
       "   ('을/Josa', 7, 8, 0.4941871877320825),\n",
       "   ('aa/Verb', 8, 10, -0.1)],\n",
       "  2.8323334795148774),\n",
       " ([('오늘저녁/Noun', 0, 4, -0.1),\n",
       "   ('에/Josa', 4, 5, 0.7988212775958619),\n",
       "   ('운동/Noun', 5, 7, 0.04151176192894883),\n",
       "   ('을/Josa', 7, 8, 0.4941871877320825),\n",
       "   ('aa/Noun', 8, 10, -0.1)],\n",
       "  2.831508402740658),\n",
       " ([('오늘/Noun', 0, 2, 0.02939046921384876),\n",
       "   ('저녁/Noun', 2, 4, 0.03495215180293302),\n",
       "   ('에/Josa', 4, 5, 0.7988212775958619),\n",
       "   ('운동/Noun', 5, 7, 0.04151176192894883),\n",
       "   ('을/Josa', 7, 8, 0.4941871877320825),\n",
       "   ('aa/Adverb', 8, 10, -0.1)],\n",
       "  2.8282769561128696)]"
      ]
     },
     "execution_count": 10,
     "metadata": {},
     "output_type": "execute_result"
    }
   ],
   "source": [
    "trained_crf.tag('오늘저녁에운동을aa', flatten=False, guess_tag=True)"
   ]
  },
  {
   "cell_type": "code",
   "execution_count": 11,
   "metadata": {},
   "outputs": [
    {
     "data": {
      "text/plain": [
       "[([('머리', 'Noun'), ('쿵', 'Adverb'), ('하', 'Verb'), ('아쪄', 'Eomi')],\n",
       "  2.2417971454993966),\n",
       " ([('머', 'Exclamation'),\n",
       "   ('리', 'Noun'),\n",
       "   ('쿵', 'Adverb'),\n",
       "   ('하', 'Verb'),\n",
       "   ('아쪄', 'Eomi')],\n",
       "  1.6144674032983075),\n",
       " ([('머리', 'Noun'),\n",
       "   ('쿵', 'Adverb'),\n",
       "   ('하', 'Verb'),\n",
       "   ('아', 'Eomi'),\n",
       "   ('찌', 'Verb'),\n",
       "   ('어', 'Eomi')],\n",
       "  1.5775719515293989),\n",
       " ([('머리', 'Noun'), ('쿵하', 'Verb'), ('아쪄', 'Eomi')], 1.539755672532912),\n",
       " ([('머리쿵', 'Unk'), ('하', 'Verb'), ('아쪄', 'Eomi')], 1.5391687714592723)]"
      ]
     },
     "execution_count": 11,
     "metadata": {},
     "output_type": "execute_result"
    }
   ],
   "source": [
    "trained_crf.add_user_dictionary('Eomi', {'아쪄':1, '아써':1})\n",
    "trained_crf.tag('머리쿵해쪄')"
   ]
  },
  {
   "cell_type": "code",
   "execution_count": 12,
   "metadata": {},
   "outputs": [
    {
     "data": {
      "text/plain": [
       "[([('머리/Noun', 0, 2, 0.044167659920634116),\n",
       "   ('쿵/Adverb', 2, 3, 0.003490086780958086),\n",
       "   ('하/Verb + 아쪄/Eomi', 3, 5, 1.7945860985687603)],\n",
       "  2.2417971454993966),\n",
       " ([('머리/Noun', 0, 2, 0.044167659920634116),\n",
       "   ('쿵/Adverb', 2, 3, 0.003490086780958086),\n",
       "   ('하/Verb + 아/Eomi', 3, 4, 1.2142712310384374),\n",
       "   ('찌/Verb + 어/Eomi', 4, 5, 0.566420316555797)],\n",
       "  1.5775719515293989)]"
      ]
     },
     "execution_count": 12,
     "metadata": {},
     "output_type": "execute_result"
    }
   ],
   "source": [
    "trained_crf.tag('머리쿵해쪄', flatten=False, beam_size=2)"
   ]
  },
  {
   "cell_type": "code",
   "execution_count": 13,
   "metadata": {},
   "outputs": [
    {
     "name": "stdout",
     "output_type": "stream",
     "text": [
      "\n",
      "[('뭐', 'Noun'), ('타', 'Verb'), ('고', 'Eomi'), ('가', 'Noun')]\n",
      "1.5817504724400573\n",
      "\n",
      "[('뭐', 'Noun'), ('타', 'Verb'), ('고', 'Noun'), ('가', 'Noun')]\n",
      "-0.7660424801447979\n",
      "\n",
      "[('뭐', 'Noun'), ('타', 'Verb'), ('고', 'Eomi'), ('가', 'Verb'), ('ㅏ', 'Eomi')]\n",
      "3.0270748263528033\n",
      "\n",
      "[('뭐', 'Noun'), ('타', 'Verb'), ('고', 'Noun'), ('가', 'Verb'), ('ㅏ', 'Eomi')]\n",
      "0.6979560697959537\n"
     ]
    }
   ],
   "source": [
    "candidates = [\n",
    "    [('뭐', 'Noun'), ('타', 'Verb'), ('고', 'Eomi'), ('가', 'Noun')],\n",
    "    [('뭐', 'Noun'), ('타', 'Verb'), ('고', 'Noun'), ('가', 'Noun')],\n",
    "    [('뭐', 'Noun'), ('타', 'Verb'), ('고', 'Eomi'), ('가', 'Verb'), ('ㅏ', 'Eomi')],\n",
    "    [('뭐', 'Noun'), ('타', 'Verb'), ('고', 'Noun'), ('가', 'Verb'), ('ㅏ', 'Eomi')]\n",
    "]\n",
    "\n",
    "for sent in candidates:\n",
    "    print('\\n{}'.format(sent))\n",
    "    print(trained_crf.evaluate(sent, debug=False))"
   ]
  },
  {
   "cell_type": "code",
   "execution_count": 14,
   "metadata": {},
   "outputs": [
    {
     "name": "stdout",
     "output_type": "stream",
     "text": [
      "\n",
      "score = 8.631863016811264\n",
      "('아이돌룸', 'Noun')\n",
      "('에', 'Josa')\n",
      "('아이오아이', 'Noun')\n",
      "('가', 'Josa')\n",
      "('나오', 'Verb')\n",
      "('ㄹ', 'Eomi')\n",
      "('수', 'Noun')\n",
      "('있', 'Verb')\n",
      "('을', 'Eomi')\n",
      "('끄', 'Verb')\n",
      "('아', 'Eomi')\n",
      "\n",
      "score = 8.620568685716137\n",
      "('아이돌룸', 'Noun')\n",
      "('에', 'Josa')\n",
      "('아이오아이', 'Noun')\n",
      "('가', 'Josa')\n",
      "('나오', 'Verb')\n",
      "('ㄹ', 'Eomi')\n",
      "('수', 'Noun')\n",
      "('있', 'Verb')\n",
      "('을까', 'Eomi')\n",
      "\n",
      "score = 8.490259180745435\n",
      "('아이돌룸', 'Noun')\n",
      "('에', 'Josa')\n",
      "('아이오아이', 'Noun')\n",
      "('가', 'Josa')\n",
      "('나오', 'Verb')\n",
      "('ㄹ', 'Eomi')\n",
      "('수', 'Noun')\n",
      "('있', 'Verb')\n",
      "('을', 'Eomi')\n",
      "('끄', 'Verb')\n",
      "('아', 'Eomi')\n",
      "\n",
      "score = 8.348945183077209\n",
      "('아이돌룸', 'Noun')\n",
      "('에', 'Josa')\n",
      "('아이오아이', 'Noun')\n",
      "('가', 'Josa')\n",
      "('나오', 'Verb')\n",
      "('ㄹ', 'Eomi')\n",
      "('수', 'Noun')\n",
      "('있', 'Adjective')\n",
      "('을', 'Eomi')\n",
      "('끄', 'Verb')\n",
      "('아', 'Eomi')\n",
      "\n",
      "score = 8.309264699122824\n",
      "('아이돌룸', 'Noun')\n",
      "('에', 'Josa')\n",
      "('아이오아이', 'Noun')\n",
      "('가나', 'Noun')\n",
      "('오', 'Verb')\n",
      "('ㄹ', 'Eomi')\n",
      "('수', 'Noun')\n",
      "('있', 'Verb')\n",
      "('을', 'Eomi')\n",
      "('끄', 'Verb')\n",
      "('아', 'Eomi')\n"
     ]
    }
   ],
   "source": [
    "trained_crf.add_user_dictionary('Noun', {'아이오아이':1, '아이돌룸':1})\n",
    "trained_crf.add_user_dictionary('Verb', {'나오':0.5})\n",
    "sent = '아이돌룸에아이오아이가나올수있을까'\n",
    "\n",
    "trained_crf._a_syllable_penalty = -0.3\n",
    "trained_crf._noun_preference = 0.2\n",
    "\n",
    "top_poses = trained_crf.tag(sent, flatten=True)\n",
    "for poses, score in top_poses:\n",
    "    print('\\nscore = {}'.format(score))\n",
    "    for pos in poses:\n",
    "        print(pos)"
   ]
  },
  {
   "cell_type": "code",
   "execution_count": 15,
   "metadata": {},
   "outputs": [
    {
     "name": "stdout",
     "output_type": "stream",
     "text": [
      "8.631863016811264\n",
      "('아이돌룸/Noun', 0, 4, 1)\n",
      "('에/Josa', 4, 5, 0.7988212775958619)\n",
      "('아이오아이/Noun', 5, 10, 1)\n",
      "('가/Josa', 10, 11, 0.49605081451643446)\n",
      "('나오/Verb + ㄹ/Eomi', 11, 13, 0.8343134145802069)\n",
      "('수/Noun', 13, 14, 0.21230885221277132)\n",
      "('있/Verb', 14, 15, 0.43585965299758406)\n",
      "('을/Eomi', 15, 16, 0.2617042416834795)\n",
      "('끄/Verb + 아/Eomi', 16, 17, 0.4272818702989071)\n"
     ]
    }
   ],
   "source": [
    "poses, score = trained_crf.tag(sent, flatten=False, beam_size=1)[0]\n",
    "print(score)\n",
    "for pos in poses:\n",
    "    print(pos)"
   ]
  },
  {
   "cell_type": "code",
   "execution_count": null,
   "metadata": {
    "collapsed": true
   },
   "outputs": [],
   "source": []
  }
 ],
 "metadata": {
  "kernelspec": {
   "display_name": "Python 3",
   "language": "python",
   "name": "python3"
  },
  "language_info": {
   "codemirror_mode": {
    "name": "ipython",
    "version": 3
   },
   "file_extension": ".py",
   "mimetype": "text/x-python",
   "name": "python",
   "nbconvert_exporter": "python",
   "pygments_lexer": "ipython3",
   "version": "3.6.2"
  }
 },
 "nbformat": 4,
 "nbformat_minor": 2
}
